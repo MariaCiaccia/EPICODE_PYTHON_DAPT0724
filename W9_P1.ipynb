{
 "cells": [
  {
   "cell_type": "code",
   "execution_count": 1,
   "id": "6d75ffbe-3d53-4a40-970f-1ef4b1be080e",
   "metadata": {},
   "outputs": [],
   "source": [
    "studenti = 25"
   ]
  },
  {
   "cell_type": "code",
   "execution_count": 2,
   "id": "7316ae34-c8e5-4fad-8bc3-cc7bf3e5c9d4",
   "metadata": {},
   "outputs": [
    {
     "name": "stdout",
     "output_type": "stream",
     "text": [
      "25\n"
     ]
    }
   ],
   "source": [
    "print(studenti)"
   ]
  },
  {
   "cell_type": "code",
   "execution_count": 3,
   "id": "dd6343e6-3039-48f6-90f1-c22fe54cb56a",
   "metadata": {},
   "outputs": [],
   "source": [
    "studenti_update = 3"
   ]
  },
  {
   "cell_type": "code",
   "execution_count": 4,
   "id": "48a25b27-a373-405a-8a04-666270bdd1c1",
   "metadata": {},
   "outputs": [],
   "source": [
    "studenti_final = studenti_update + studenti"
   ]
  },
  {
   "cell_type": "code",
   "execution_count": 5,
   "id": "7a9a5449-7c0d-421e-a47c-534553e2d796",
   "metadata": {},
   "outputs": [
    {
     "name": "stdout",
     "output_type": "stream",
     "text": [
      "28\n"
     ]
    }
   ],
   "source": [
    "print(studenti_final)"
   ]
  },
  {
   "cell_type": "code",
   "execution_count": 6,
   "id": "258c8de8-c203-476d-8032-147ec9ac923d",
   "metadata": {},
   "outputs": [
    {
     "name": "stdout",
     "output_type": "stream",
     "text": [
      "Epicode\n"
     ]
    }
   ],
   "source": [
    "x = \"Epicode\"\n",
    "print(x)"
   ]
  },
  {
   "cell_type": "code",
   "execution_count": 20,
   "id": "acf3eee2-c31c-4cc1-baf6-adfb61b2c1e1",
   "metadata": {},
   "outputs": [
    {
     "name": "stdout",
     "output_type": "stream",
     "text": [
      "36\n"
     ]
    }
   ],
   "source": [
    "x = 10\n",
    "x = x+2\n",
    "x = x*3\n",
    "#x = 3*(x+2)\n",
    "print(x)"
   ]
  },
  {
   "cell_type": "code",
   "execution_count": 32,
   "id": "109d2d03-8c60-46e2-8e4c-fbf178a0ceeb",
   "metadata": {},
   "outputs": [
    {
     "name": "stdout",
     "output_type": "stream",
     "text": [
      "7\n",
      "7\n",
      "Le lunghezze sono: 7 5 10 4 !\n"
     ]
    }
   ],
   "source": [
    "str1 = \"Windows\" \n",
    "str2 = \"Excel\" \n",
    "str3 = \"Powerpoint\" \n",
    "str4 = \"Word\"\n",
    "\n",
    "len1 = len(str1)\n",
    "len2 = len(str2)\n",
    "len3 = len(str3)\n",
    "len4 = len(str4)\n",
    "print(len1) #per ogni stringa, oppure\n",
    "print(len(str1)) \n",
    "print(\"Le lunghezze sono:\", len1, len2,len3,len4, \"!\")\n",
    "#preferire il primo quando ho necessità di più chiarezza"
   ]
  },
  {
   "cell_type": "code",
   "execution_count": 12,
   "id": "30dfeb93-509b-4f92-9f6b-3ddc36ebf684",
   "metadata": {},
   "outputs": [
    {
     "name": "stdout",
     "output_type": "stream",
     "text": [
      "31536000\n"
     ]
    }
   ],
   "source": [
    "#secondi di un anno bisestile\n",
    "giorni = 365\n",
    "secondi  = 60**2*24*giorni  #secondi*minuti*ore*giorni \n",
    "print(secondi)"
   ]
  },
  {
   "cell_type": "code",
   "execution_count": 13,
   "id": "d2122bb9-fe24-4f93-ada2-6439efd3da7d",
   "metadata": {},
   "outputs": [],
   "source": [
    "my_string = \"I am studying Python\""
   ]
  },
  {
   "cell_type": "code",
   "execution_count": 14,
   "id": "9b12b6d4-f9da-4bdf-9151-6028e666a944",
   "metadata": {},
   "outputs": [
    {
     "name": "stdout",
     "output_type": "stream",
     "text": [
      "I AM STUDYING PYTHON\n"
     ]
    }
   ],
   "source": [
    "my_stringUpper = my_string.upper()\n",
    "print(my_stringUpper)"
   ]
  },
  {
   "cell_type": "code",
   "execution_count": 15,
   "id": "206f1d12-fa03-4c21-9788-022584851dd5",
   "metadata": {},
   "outputs": [
    {
     "name": "stdout",
     "output_type": "stream",
     "text": [
      "i am studying python\n"
     ]
    }
   ],
   "source": [
    "my_stringLower = my_string.lower()\n",
    "print(my_stringLower)"
   ]
  },
  {
   "cell_type": "code",
   "execution_count": 16,
   "id": "83be2db6-83c3-483d-baec-2a184143b1b6",
   "metadata": {},
   "outputs": [
    {
     "name": "stdout",
     "output_type": "stream",
     "text": [
      "I am studying a lot\n"
     ]
    }
   ],
   "source": [
    "my_stringReplaced = my_string.replace(\"Python\",\"a lot\")\n",
    "print(my_stringReplaced)"
   ]
  },
  {
   "cell_type": "code",
   "execution_count": 36,
   "id": "e5861319-906a-405f-b246-24a27087bbeb",
   "metadata": {},
   "outputs": [
    {
     "name": "stdout",
     "output_type": "stream",
     "text": [
      "I am studying Python\n"
     ]
    }
   ],
   "source": [
    "my_stringStripped = my_string.strip()  #strip elimina spazi iniziali e finali, \n",
    "                                       # in questo caso non cambia nulla perchè non ne ho\n",
    "print(my_stringStripped)"
   ]
  },
  {
   "cell_type": "code",
   "execution_count": 40,
   "id": "4eae6c12-f074-4df8-9ce5-614fd07c3568",
   "metadata": {},
   "outputs": [
    {
     "name": "stdout",
     "output_type": "stream",
     "text": [
      "['I', 'am', 'studying', 'Python']\n"
     ]
    }
   ],
   "source": [
    "print(my_stringStripped.split(\" \"))"
   ]
  },
  {
   "cell_type": "code",
   "execution_count": 60,
   "id": "3b9475a4-dec4-43da-8499-9fc973cc1d57",
   "metadata": {},
   "outputs": [
    {
     "name": "stdout",
     "output_type": "stream",
     "text": [
      "['Alex', 'Bob', 'Cindy', 'Dan', 'Emma', 'Faith', 'Grace', 'Henry']\n",
      "['Cybersecurity', 'Data Analyst', 'Backend', 'Frontend', 'Data Analyst', 'Backend', 'Frontend', 'Cybersecurity']\n",
      "Henry\n",
      "Cybersecurity\n"
     ]
    }
   ],
   "source": [
    "studenti = [\"Alex\", \"Bob\", \"Cindy\", \"Dan\", \"Emma\", \"Faith\", \"Grace\", \"Henry\"] \n",
    "corsi = [\"Cybersecurity\", \"Data Analyst\", \"Backend\", \"Frontend\", \"Data Analyst\", \"Backend\"]\n",
    "corsi.append(\"Frontend\")\n",
    "corsi.append(\"Cybersecurity\")\n",
    "print(studenti)\n",
    "print(corsi)\n",
    "print(studenti[-1])\n",
    "print(corsi[-1])"
   ]
  },
  {
   "cell_type": "code",
   "execution_count": null,
   "id": "697d3799-2cdc-4846-8944-c998d8e43800",
   "metadata": {},
   "outputs": [],
   "source": []
  }
 ],
 "metadata": {
  "kernelspec": {
   "display_name": "Python [conda env:base] *",
   "language": "python",
   "name": "conda-base-py"
  },
  "language_info": {
   "codemirror_mode": {
    "name": "ipython",
    "version": 3
   },
   "file_extension": ".py",
   "mimetype": "text/x-python",
   "name": "python",
   "nbconvert_exporter": "python",
   "pygments_lexer": "ipython3",
   "version": "3.12.7"
  }
 },
 "nbformat": 4,
 "nbformat_minor": 5
}
