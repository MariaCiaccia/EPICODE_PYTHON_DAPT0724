{
 "cells": [
  {
   "cell_type": "markdown",
   "id": "e213d7ad-e7e1-4f89-819f-965b1c686cd1",
   "metadata": {},
   "source": [
    "**Esercizio**\n",
    "Abbiamo la stringa: nome_scuola = \"Epicode\" \n",
    "Stampare ogni carattere della stringa, uno su ogni riga, utilizzando un costrutto while.\n"
   ]
  },
  {
   "cell_type": "code",
   "execution_count": null,
   "id": "9cd78f59-a6c9-428d-a255-177d47308874",
   "metadata": {},
   "outputs": [],
   "source": [
    "nome_scuola = \"Epicode\"\n",
    "i = 0 \n",
    "while i < len(nome_scuola):\n",
    "    print(nome_scuola[i])\n",
    "    i +=1\n",
    "\n"
   ]
  },
  {
   "cell_type": "markdown",
   "id": "2755a7da-dece-40dc-b6dc-4524420d2ce8",
   "metadata": {},
   "source": [
    "**Esercizio**\n",
    "Stampare a video tutti i numeri da 0 a 20 utilizzando il costrutto while."
   ]
  },
  {
   "cell_type": "code",
   "execution_count": null,
   "id": "5c2e1bef-e0f9-43d4-b81b-df3dc0b1ad2f",
   "metadata": {},
   "outputs": [],
   "source": [
    "n = 0\n",
    "numeri = []\n",
    "while n <= 20:\n",
    "    numeri.append(n)\n",
    "    n +=1\n",
    "print(numeri)\n",
    "    "
   ]
  },
  {
   "cell_type": "markdown",
   "id": "69311853-d122-4c7b-bfc9-6a855f29a86c",
   "metadata": {},
   "source": [
    "**Esercizio**\n",
    "Calcolare e stampare tutte le prime 10 potenze di 2 (e.g., 2⁰, 2¹, 2², …) utilizzando un ciclo while."
   ]
  },
  {
   "cell_type": "code",
   "execution_count": null,
   "id": "8eb703af-1f99-4c9a-9d01-8dc8c07b4bb4",
   "metadata": {},
   "outputs": [],
   "source": [
    "esp = 0 \n",
    "potenze = [] \n",
    "while esp < 10:\n",
    "    potenze.append(2**esp)\n",
    "    esp +=1\n",
    "print(\"Le prime 10 potenze del 2 sono: \",potenze)"
   ]
  },
  {
   "cell_type": "markdown",
   "id": "56e3f8ec-4441-4c34-853d-1b262ba5f20c",
   "metadata": {},
   "source": [
    "**Esercizio** Calcolare e stampare tutte le prime N potenze di 2 utilizzando un ciclo while, domandando all'utente di inserire N."
   ]
  },
  {
   "cell_type": "code",
   "execution_count": null,
   "id": "6d863d5b-f21c-4376-8149-e0d50685852c",
   "metadata": {},
   "outputs": [],
   "source": [
    "esp = 0 \n",
    "potenze = [] \n",
    "N = int(input(\"Inserisci il numero di potenze che vuoi calcolare: \"))\n",
    "while esp < N:\n",
    "    potenze.append(2**esp)\n",
    "    esp +=1\n",
    "print(\"Le prime \", N, \" potenze del 2 sono: \",potenze)"
   ]
  },
  {
   "cell_type": "markdown",
   "id": "dbae9a76-77c8-4dd0-8534-8f71baf908bc",
   "metadata": {},
   "source": [
    "**Esercizio** \n",
    "Calcolare e stampare tutte le potenze di 2 minori di 25000."
   ]
  },
  {
   "cell_type": "code",
   "execution_count": null,
   "id": "56b1904a-58c9-475c-bcf5-38d455dd4239",
   "metadata": {},
   "outputs": [],
   "source": [
    "n = 1\n",
    "potenze = []\n",
    "while  n < 2500:\n",
    "    potenze.append(n)\n",
    "    n *= 2\n",
    "print(potenze)"
   ]
  },
  {
   "cell_type": "markdown",
   "id": "2f4d5eed-9c5d-40b8-b893-1904ff074c97",
   "metadata": {},
   "source": [
    "**Esercizio** Scriviamo un programma che chiede in input all'utente una stringa e visualizza i primi 3 caratteri, seguiti da 3 punti di sospensione e quindi gli ultimi 3 caratteri, similmente all'esercizio della lezione scorsa. Stavolta facciamo attenzione a tutti i casi particolari, ovvero implementare soluzioni ad hoc per stringhe di lunghezza inferiore a 6 caratteri."
   ]
  },
  {
   "cell_type": "code",
   "execution_count": null,
   "id": "8065d4a1-f325-491b-8af6-530f97b40174",
   "metadata": {},
   "outputs": [],
   "source": [
    "# se la stringa deve essere necessarimente di lunghezza 6\n",
    "str = input(\"Inserisci una stringa di almeno 6 caratteri: \")\n",
    "while len(str) < 6:\n",
    "    str = input(\"Ops, non hai inseri\n",
    "    to una stringa sufficientemente lunga, riprova:\")\n",
    "print(str[:3] , \"...\" , str[-3:])\n",
    "\n",
    "\n"
   ]
  },
  {
   "cell_type": "code",
   "execution_count": null,
   "id": "28d96161-511d-4d57-84aa-610bdd6f4329",
   "metadata": {},
   "outputs": [],
   "source": [
    "# se è possibile effettuale stampe alternative\n",
    "str = input(\"Inserisci una stringa: \")\n",
    "if len(str) >= 6:\n",
    "    print(str[:3],\"...\", str[-3:])\n",
    "elif len(str) < 3:\n",
    "    print(str)\n",
    "else: print(str[:3],\"...\")\n",
    "    "
   ]
  },
  {
   "cell_type": "markdown",
   "id": "5401c309-9973-4fab-94b2-ac1e161e25ea",
   "metadata": {},
   "source": [
    "**Esercizio** Memorizza e stampa tutti i fattori di un numero dato in input (cioè tutti i numeri primi che, moltiplicati tra di loro, danno il numero di partenza).\n"
   ]
  },
  {
   "cell_type": "code",
   "execution_count": null,
   "id": "35498649-852a-4e33-a1d9-53978bc8cd14",
   "metadata": {},
   "outputs": [],
   "source": [
    "n = int(input(\"Inserisci un numero intero: \" ))\n",
    "fattori = []\n",
    "divisore = 2\n",
    "while n > 1:\n",
    "    while n % divisore == 0:\n",
    "        fattori.append(divisore)\n",
    "        n = n/divisore\n",
    "    divisore += 1\n",
    "print(\"Fattori primi:\", fattori)\n",
    "\n",
    "        "
   ]
  },
  {
   "cell_type": "markdown",
   "id": "5075216c-aadb-449f-aaa8-0c048aa84e1e",
   "metadata": {},
   "source": [
    "**Esercizio** Abbiamo la stringa: nome_scuola = \"Epicode\" Stampare ogni carattere della stringa, uno su ogni riga, utilizzando un costrutto for."
   ]
  },
  {
   "cell_type": "code",
   "execution_count": null,
   "id": "bf653147-4352-4edf-8b7c-af0c0505d9e0",
   "metadata": {},
   "outputs": [],
   "source": [
    "nome_scuola = \"Epicode\"\n",
    "for i in nome_scuola:\n",
    "    print(i)\n"
   ]
  },
  {
   "cell_type": "markdown",
   "id": "dcc634bc-0983-4e89-9cfe-6a8d3cae4813",
   "metadata": {},
   "source": [
    "**Esercizio** Calcolare e stampare tutte le prime 10 potenze di 2 utilizzando un ciclo. Per eseguire un certo numero di volte un ciclo si può utilizzare la funzione builtin range(), ad esempio: for numero in range(5): print(numero)"
   ]
  },
  {
   "cell_type": "code",
   "execution_count": null,
   "id": "358b897f-4d07-4c72-a3d7-e60854021313",
   "metadata": {},
   "outputs": [],
   "source": [
    "for i in range(10):\n",
    "    print(2**i)\n",
    "    i +=1\n",
    "    "
   ]
  },
  {
   "cell_type": "markdown",
   "id": "9bd65c7d-d1ca-48a9-818d-30033cf6b0a2",
   "metadata": {},
   "source": [
    "**Esercizio** Calcolare (ma non stampare) le prime N potenze di K; ognuna di esse andrà memorizzata in coda a una lista. Alla fine, stampare la lista risultante. Proviamo con diversi valori di K, oppure facciamola inserire all'utente. Realizzare due versioni: • con un ciclo while, • con un ciclo for."
   ]
  },
  {
   "cell_type": "code",
   "execution_count": null,
   "id": "6426b178-2fcd-4f8a-abe2-e6cbfa94b878",
   "metadata": {},
   "outputs": [],
   "source": [
    "# utilizzando ciclo while\n",
    "K = int(input(\"Inserisci il numero di cui vuoi calcolare le potenze: \"))\n",
    "N = int(input(\"Quante potenze desideri calcolare? \"))\n",
    "esp = 0\n",
    "potenze = []\n",
    "while esp < N:\n",
    "    potenze.append(K**esp)\n",
    "    esp +=1\n",
    "print(potenze)"
   ]
  },
  {
   "cell_type": "code",
   "execution_count": null,
   "id": "038cc7ef-accc-47be-a9f5-4fc077524d8e",
   "metadata": {},
   "outputs": [],
   "source": [
    "# utilizzando ciclo for\n",
    "K = int(input(\"Inserisci il numero di cui vuoi calcolare le potenze: \"))\n",
    "N = int(input(\"Quante potenze desideri calcolare? \"))\n",
    "potenze = []\n",
    "for  esp in range(N):\n",
    "    potenze.append(K**esp)  \n",
    "print(potenze)"
   ]
  },
  {
   "cell_type": "markdown",
   "id": "7bf6a697-01f0-4363-a39d-77f505e1dc7f",
   "metadata": {},
   "source": [
    "**Esercizio** Abbiamo una lista con i guadagni degli ultimi 12 mesi: guadagni = [100, 90, 70, 40, 50, 80, 90, 120, 80, 20, 50, 50] usando un costrutto for, calcolare la media dei guadagni e stamparla a video."
   ]
  },
  {
   "cell_type": "code",
   "execution_count": null,
   "id": "7d325bf0-b562-4586-910a-a361706f86df",
   "metadata": {},
   "outputs": [],
   "source": [
    "guadagni = [100, 90, 70, 40, 50, 80, 90, 120, 80, 20, 50, 50] \n",
    "totale = 0\n",
    "for guadagno in guadagni:\n",
    "    totale += guadagno\n",
    "print ( \"La media dei guadagni è \" , totale/len(guadagni))"
   ]
  },
  {
   "cell_type": "markdown",
   "id": "0dab2cce-5e03-468e-8f31-8acab81463a3",
   "metadata": {},
   "source": [
    "**Esercizio** Abbiamo una lista di parole: parole = [\"Albergo\", \"Sedia\", \"Borgo\", \"Petalo\", \"Eremo\", \"Belvedere\", \"Semestre\", \"Esteta\", \"Sosta\", \"Orpello\", \"Abete\", \"Orologio\", \"Cesta\", \"Ermellino\"] stampiamo, per ogni parola, quante volte appare la lettera \"e\"; facciamo attenzione al fatto che appare sia maiuscola che minuscola."
   ]
  },
  {
   "cell_type": "code",
   "execution_count": null,
   "id": "30d9d2f0-27c5-4c44-ac7c-ac9424d7a6ab",
   "metadata": {},
   "outputs": [],
   "source": [
    "parole = [\"Albergo\", \"Sedia\", \"Borgo\", \"Petalo\", \"Eremo\", \"Belvedere\", \"Semestre\", \"Esteta\", \"Sosta\", \"Orpello\", \"Abete\", \"Orologio\", \"Cesta\", \"Ermellino\"] \n",
    "for parola in parole:\n",
    "    count = 0\n",
    "    parola  = parola.lower()\n",
    "    for carattere in parola:\n",
    "        if carattere == \"e\":\n",
    "            count +=1\n",
    "    print(\"Nella parola\", parola.upper(), \"le 'e' sono\", count)"
   ]
  },
  {
   "cell_type": "markdown",
   "id": "29c53de9-fbf0-46ed-b635-c362a06cffce",
   "metadata": {},
   "source": [
    "**Esercizio** Creiamo un dizionario che assegni ad ogni proprietario la sua auto, sapendo che: • Ada guida una Punto • Ben guida una Multipla • Charlie guida una Golf • Debbie guida una 107 Stampiamo il dizionario per intero, e poi l'auto associata a Debbie."
   ]
  },
  {
   "cell_type": "code",
   "execution_count": null,
   "id": "4fdd6dc4-38ca-4dea-83a5-50edb673d7ed",
   "metadata": {},
   "outputs": [],
   "source": [
    "auto = { \"Ada\": \"Punto\", \"Ben\": \"Multipla\",\"Charlie\": \"Golf\",\"Debbie\": \"107\"}\n",
    "print(auto)\n",
    "print(\"L'auto di Debbie è:\", auto[\"Debbie\"])"
   ]
  },
  {
   "cell_type": "markdown",
   "id": "a2af4551-2c39-48ef-aca5-5e77ed7186dc",
   "metadata": {},
   "source": [
    "**Esercizio** Abbiamo un dizionario che assegna ad ogni proprietario la sua auto: dizionario_auto = {\"Ada\": \"Punto\", \"Ben\": \"Multipla\", \"Charlie\": \"Golf\", \"Debbie\": \"107\"} Con un ciclo, e usando il metodo .values(), stampiamo a video tutte le auto che non sono una Multipla."
   ]
  },
  {
   "cell_type": "code",
   "execution_count": null,
   "id": "b25e5daa-94a2-4c40-8eed-881f89827c05",
   "metadata": {},
   "outputs": [],
   "source": [
    "dizionario_auto = {\"Ada\": \"Punto\", \"Ben\": \"Multipla\", \"Charlie\": \"Golf\", \"Debbie\": \"107\"} \n",
    "for auto in dizionario_auto.values():\n",
    "    if auto != \"Multipla\":\n",
    "        print(auto)"
   ]
  },
  {
   "cell_type": "markdown",
   "id": "211b1071-2525-469c-83e6-d4f446b33927",
   "metadata": {},
   "source": [
    "**Esercizio** Abbiamo due dizionari che assegnano ad ogni proprietario la propria auto: dizionario_auto = {\"Ada\": \"Punto\", \"Ben\": \"Multipla\", \"Charlie\": \"Golf\", \"Debbie\": \"107\", \"Emily\": \"A1\"} nuovi_proprietari = {\"Ben\": \"Polo\", \"Fred\": \"Octavia\", \"Grace\": \"Yaris\", \"Hugh\": \"Clio\"} Aggiornare il dizionario dizionario_auto con i dati contenuti in nuovi_proprietari e stamparlo. Cosa è successo a Ben?"
   ]
  },
  {
   "cell_type": "code",
   "execution_count": 93,
   "id": "e5cca5f4-be8f-40de-9a34-9d8d82fae7ae",
   "metadata": {},
   "outputs": [
    {
     "name": "stdout",
     "output_type": "stream",
     "text": [
      "Auto di Ben: Multipla\n",
      "{'Ada': 'Punto', 'Ben': 'Polo', 'Charlie': 'Golf', 'Debbie': '107', 'Emily': 'A1', 'Fred': 'Octavia', 'Grace': 'Yaris', 'Hugh': 'Clio'}\n",
      "Auto di Ben: Polo\n"
     ]
    }
   ],
   "source": [
    "dizionario_auto = {\"Ada\": \"Punto\", \"Ben\": \"Multipla\", \"Charlie\": \"Golf\", \"Debbie\": \"107\", \"Emily\": \"A1\"} \n",
    "nuovi_proprietari = {\"Ben\": \"Polo\", \"Fred\": \"Octavia\", \"Grace\": \"Yaris\", \"Hugh\": \"Clio\"}\n",
    "print(\"Auto di Ben:\" ,dizionario_auto[\"Ben\"])\n",
    "dizionario_auto.update(nuovi_proprietari)\n",
    "print(dizionario_auto)\n",
    "print(\"Auto di Ben:\" ,dizionario_auto[\"Ben\"])\n"
   ]
  },
  {
   "cell_type": "code",
   "execution_count": null,
   "id": "7c0cffe7-d06b-40cd-bd5f-4557810d2006",
   "metadata": {},
   "outputs": [],
   "source": []
  }
 ],
 "metadata": {
  "kernelspec": {
   "display_name": "Python [conda env:base] *",
   "language": "python",
   "name": "conda-base-py"
  },
  "language_info": {
   "codemirror_mode": {
    "name": "ipython",
    "version": 3
   },
   "file_extension": ".py",
   "mimetype": "text/x-python",
   "name": "python",
   "nbconvert_exporter": "python",
   "pygments_lexer": "ipython3",
   "version": "3.12.7"
  }
 },
 "nbformat": 4,
 "nbformat_minor": 5
}
