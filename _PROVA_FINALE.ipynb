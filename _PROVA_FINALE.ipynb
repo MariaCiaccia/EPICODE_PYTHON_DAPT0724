{
 "cells": [
  {
   "cell_type": "markdown",
   "id": "89d997d8-4af9-425b-a718-149f19e46e09",
   "metadata": {},
   "source": [
    "# Import"
   ]
  },
  {
   "cell_type": "code",
   "execution_count": 2,
   "id": "d344ee55-dfe5-400c-a0b3-84db3e0d4741",
   "metadata": {},
   "outputs": [],
   "source": [
    "import pandas as pd\n",
    "import seaborn as sns\n",
    "import matplotlib.pyplot as plt"
   ]
  },
  {
   "cell_type": "markdown",
   "id": "2d9454cf-f2d9-482f-89bc-5294fbcbfcef",
   "metadata": {},
   "source": [
    "# Lettura dataset"
   ]
  },
  {
   "cell_type": "code",
   "execution_count": 4,
   "id": "74c163fd-66b1-473c-b2e6-0b8f8aea8d7e",
   "metadata": {},
   "outputs": [
    {
     "data": {
      "text/html": [
       "<div>\n",
       "<style scoped>\n",
       "    .dataframe tbody tr th:only-of-type {\n",
       "        vertical-align: middle;\n",
       "    }\n",
       "\n",
       "    .dataframe tbody tr th {\n",
       "        vertical-align: top;\n",
       "    }\n",
       "\n",
       "    .dataframe thead th {\n",
       "        text-align: right;\n",
       "    }\n",
       "</style>\n",
       "<table border=\"1\" class=\"dataframe\">\n",
       "  <thead>\n",
       "    <tr style=\"text-align: right;\">\n",
       "      <th></th>\n",
       "      <th>iso_code</th>\n",
       "      <th>continent</th>\n",
       "      <th>location</th>\n",
       "      <th>date</th>\n",
       "      <th>total_cases</th>\n",
       "      <th>new_cases</th>\n",
       "      <th>new_cases_smoothed</th>\n",
       "      <th>total_deaths</th>\n",
       "      <th>new_deaths</th>\n",
       "      <th>new_deaths_smoothed</th>\n",
       "      <th>...</th>\n",
       "      <th>male_smokers</th>\n",
       "      <th>handwashing_facilities</th>\n",
       "      <th>hospital_beds_per_thousand</th>\n",
       "      <th>life_expectancy</th>\n",
       "      <th>human_development_index</th>\n",
       "      <th>population</th>\n",
       "      <th>excess_mortality_cumulative_absolute</th>\n",
       "      <th>excess_mortality_cumulative</th>\n",
       "      <th>excess_mortality</th>\n",
       "      <th>excess_mortality_cumulative_per_million</th>\n",
       "    </tr>\n",
       "  </thead>\n",
       "  <tbody>\n",
       "    <tr>\n",
       "      <th>135205</th>\n",
       "      <td>PYF</td>\n",
       "      <td>Oceania</td>\n",
       "      <td>French Polynesia</td>\n",
       "      <td>2024-02-03</td>\n",
       "      <td>79291.0</td>\n",
       "      <td>0.0</td>\n",
       "      <td>1.000</td>\n",
       "      <td>650.0</td>\n",
       "      <td>0.0</td>\n",
       "      <td>0.000</td>\n",
       "      <td>...</td>\n",
       "      <td>NaN</td>\n",
       "      <td>NaN</td>\n",
       "      <td>NaN</td>\n",
       "      <td>77.66</td>\n",
       "      <td>NaN</td>\n",
       "      <td>306292</td>\n",
       "      <td>NaN</td>\n",
       "      <td>NaN</td>\n",
       "      <td>NaN</td>\n",
       "      <td>NaN</td>\n",
       "    </tr>\n",
       "    <tr>\n",
       "      <th>419677</th>\n",
       "      <td>VNM</td>\n",
       "      <td>Asia</td>\n",
       "      <td>Vietnam</td>\n",
       "      <td>2024-02-08</td>\n",
       "      <td>11624000.0</td>\n",
       "      <td>0.0</td>\n",
       "      <td>0.000</td>\n",
       "      <td>43206.0</td>\n",
       "      <td>0.0</td>\n",
       "      <td>0.000</td>\n",
       "      <td>...</td>\n",
       "      <td>45.9</td>\n",
       "      <td>85.847</td>\n",
       "      <td>2.600</td>\n",
       "      <td>75.40</td>\n",
       "      <td>0.704</td>\n",
       "      <td>98186856</td>\n",
       "      <td>NaN</td>\n",
       "      <td>NaN</td>\n",
       "      <td>NaN</td>\n",
       "      <td>NaN</td>\n",
       "    </tr>\n",
       "    <tr>\n",
       "      <th>305778</th>\n",
       "      <td>PCN</td>\n",
       "      <td>Oceania</td>\n",
       "      <td>Pitcairn</td>\n",
       "      <td>2023-11-18</td>\n",
       "      <td>4.0</td>\n",
       "      <td>0.0</td>\n",
       "      <td>0.000</td>\n",
       "      <td>0.0</td>\n",
       "      <td>0.0</td>\n",
       "      <td>0.000</td>\n",
       "      <td>...</td>\n",
       "      <td>NaN</td>\n",
       "      <td>NaN</td>\n",
       "      <td>NaN</td>\n",
       "      <td>NaN</td>\n",
       "      <td>NaN</td>\n",
       "      <td>47</td>\n",
       "      <td>NaN</td>\n",
       "      <td>NaN</td>\n",
       "      <td>NaN</td>\n",
       "      <td>NaN</td>\n",
       "    </tr>\n",
       "    <tr>\n",
       "      <th>168980</th>\n",
       "      <td>HKG</td>\n",
       "      <td>Asia</td>\n",
       "      <td>Hong Kong</td>\n",
       "      <td>2021-04-08</td>\n",
       "      <td>NaN</td>\n",
       "      <td>NaN</td>\n",
       "      <td>NaN</td>\n",
       "      <td>NaN</td>\n",
       "      <td>NaN</td>\n",
       "      <td>NaN</td>\n",
       "      <td>...</td>\n",
       "      <td>NaN</td>\n",
       "      <td>NaN</td>\n",
       "      <td>NaN</td>\n",
       "      <td>84.86</td>\n",
       "      <td>0.949</td>\n",
       "      <td>7488863</td>\n",
       "      <td>NaN</td>\n",
       "      <td>NaN</td>\n",
       "      <td>NaN</td>\n",
       "      <td>NaN</td>\n",
       "    </tr>\n",
       "    <tr>\n",
       "      <th>2958</th>\n",
       "      <td>OWID_AFR</td>\n",
       "      <td>NaN</td>\n",
       "      <td>Africa</td>\n",
       "      <td>2023-07-12</td>\n",
       "      <td>13104239.0</td>\n",
       "      <td>0.0</td>\n",
       "      <td>228.143</td>\n",
       "      <td>258993.0</td>\n",
       "      <td>0.0</td>\n",
       "      <td>0.571</td>\n",
       "      <td>...</td>\n",
       "      <td>NaN</td>\n",
       "      <td>NaN</td>\n",
       "      <td>NaN</td>\n",
       "      <td>NaN</td>\n",
       "      <td>NaN</td>\n",
       "      <td>1426736614</td>\n",
       "      <td>NaN</td>\n",
       "      <td>NaN</td>\n",
       "      <td>NaN</td>\n",
       "      <td>NaN</td>\n",
       "    </tr>\n",
       "    <tr>\n",
       "      <th>249249</th>\n",
       "      <td>MCO</td>\n",
       "      <td>Europe</td>\n",
       "      <td>Monaco</td>\n",
       "      <td>2021-06-17</td>\n",
       "      <td>2350.0</td>\n",
       "      <td>0.0</td>\n",
       "      <td>2.429</td>\n",
       "      <td>33.0</td>\n",
       "      <td>0.0</td>\n",
       "      <td>0.000</td>\n",
       "      <td>...</td>\n",
       "      <td>NaN</td>\n",
       "      <td>NaN</td>\n",
       "      <td>13.800</td>\n",
       "      <td>86.75</td>\n",
       "      <td>NaN</td>\n",
       "      <td>36491</td>\n",
       "      <td>NaN</td>\n",
       "      <td>NaN</td>\n",
       "      <td>NaN</td>\n",
       "      <td>NaN</td>\n",
       "    </tr>\n",
       "    <tr>\n",
       "      <th>56851</th>\n",
       "      <td>BGR</td>\n",
       "      <td>Europe</td>\n",
       "      <td>Bulgaria</td>\n",
       "      <td>2024-05-18</td>\n",
       "      <td>1329289.0</td>\n",
       "      <td>0.0</td>\n",
       "      <td>3.286</td>\n",
       "      <td>38700.0</td>\n",
       "      <td>0.0</td>\n",
       "      <td>0.000</td>\n",
       "      <td>...</td>\n",
       "      <td>44.4</td>\n",
       "      <td>NaN</td>\n",
       "      <td>7.454</td>\n",
       "      <td>75.05</td>\n",
       "      <td>0.816</td>\n",
       "      <td>6781955</td>\n",
       "      <td>NaN</td>\n",
       "      <td>NaN</td>\n",
       "      <td>NaN</td>\n",
       "      <td>NaN</td>\n",
       "    </tr>\n",
       "    <tr>\n",
       "      <th>90024</th>\n",
       "      <td>CUW</td>\n",
       "      <td>North America</td>\n",
       "      <td>Curacao</td>\n",
       "      <td>2023-07-16</td>\n",
       "      <td>45883.0</td>\n",
       "      <td>0.0</td>\n",
       "      <td>0.000</td>\n",
       "      <td>305.0</td>\n",
       "      <td>0.0</td>\n",
       "      <td>0.000</td>\n",
       "      <td>...</td>\n",
       "      <td>NaN</td>\n",
       "      <td>NaN</td>\n",
       "      <td>NaN</td>\n",
       "      <td>78.88</td>\n",
       "      <td>NaN</td>\n",
       "      <td>191173</td>\n",
       "      <td>NaN</td>\n",
       "      <td>NaN</td>\n",
       "      <td>NaN</td>\n",
       "      <td>NaN</td>\n",
       "    </tr>\n",
       "    <tr>\n",
       "      <th>95962</th>\n",
       "      <td>DNK</td>\n",
       "      <td>Europe</td>\n",
       "      <td>Denmark</td>\n",
       "      <td>2021-06-10</td>\n",
       "      <td>288136.0</td>\n",
       "      <td>0.0</td>\n",
       "      <td>886.000</td>\n",
       "      <td>2518.0</td>\n",
       "      <td>0.0</td>\n",
       "      <td>0.286</td>\n",
       "      <td>...</td>\n",
       "      <td>18.8</td>\n",
       "      <td>NaN</td>\n",
       "      <td>2.500</td>\n",
       "      <td>80.90</td>\n",
       "      <td>0.940</td>\n",
       "      <td>5882259</td>\n",
       "      <td>NaN</td>\n",
       "      <td>NaN</td>\n",
       "      <td>NaN</td>\n",
       "      <td>NaN</td>\n",
       "    </tr>\n",
       "    <tr>\n",
       "      <th>132143</th>\n",
       "      <td>GUF</td>\n",
       "      <td>South America</td>\n",
       "      <td>French Guiana</td>\n",
       "      <td>2020-04-16</td>\n",
       "      <td>86.0</td>\n",
       "      <td>0.0</td>\n",
       "      <td>3.429</td>\n",
       "      <td>0.0</td>\n",
       "      <td>0.0</td>\n",
       "      <td>0.000</td>\n",
       "      <td>...</td>\n",
       "      <td>NaN</td>\n",
       "      <td>NaN</td>\n",
       "      <td>NaN</td>\n",
       "      <td>79.95</td>\n",
       "      <td>NaN</td>\n",
       "      <td>304568</td>\n",
       "      <td>NaN</td>\n",
       "      <td>NaN</td>\n",
       "      <td>NaN</td>\n",
       "      <td>NaN</td>\n",
       "    </tr>\n",
       "  </tbody>\n",
       "</table>\n",
       "<p>10 rows × 67 columns</p>\n",
       "</div>"
      ],
      "text/plain": [
       "        iso_code      continent          location        date  total_cases  \\\n",
       "135205       PYF        Oceania  French Polynesia  2024-02-03      79291.0   \n",
       "419677       VNM           Asia           Vietnam  2024-02-08   11624000.0   \n",
       "305778       PCN        Oceania          Pitcairn  2023-11-18          4.0   \n",
       "168980       HKG           Asia         Hong Kong  2021-04-08          NaN   \n",
       "2958    OWID_AFR            NaN            Africa  2023-07-12   13104239.0   \n",
       "249249       MCO         Europe            Monaco  2021-06-17       2350.0   \n",
       "56851        BGR         Europe          Bulgaria  2024-05-18    1329289.0   \n",
       "90024        CUW  North America           Curacao  2023-07-16      45883.0   \n",
       "95962        DNK         Europe           Denmark  2021-06-10     288136.0   \n",
       "132143       GUF  South America     French Guiana  2020-04-16         86.0   \n",
       "\n",
       "        new_cases  new_cases_smoothed  total_deaths  new_deaths  \\\n",
       "135205        0.0               1.000         650.0         0.0   \n",
       "419677        0.0               0.000       43206.0         0.0   \n",
       "305778        0.0               0.000           0.0         0.0   \n",
       "168980        NaN                 NaN           NaN         NaN   \n",
       "2958          0.0             228.143      258993.0         0.0   \n",
       "249249        0.0               2.429          33.0         0.0   \n",
       "56851         0.0               3.286       38700.0         0.0   \n",
       "90024         0.0               0.000         305.0         0.0   \n",
       "95962         0.0             886.000        2518.0         0.0   \n",
       "132143        0.0               3.429           0.0         0.0   \n",
       "\n",
       "        new_deaths_smoothed  ...  male_smokers  handwashing_facilities  \\\n",
       "135205                0.000  ...           NaN                     NaN   \n",
       "419677                0.000  ...          45.9                  85.847   \n",
       "305778                0.000  ...           NaN                     NaN   \n",
       "168980                  NaN  ...           NaN                     NaN   \n",
       "2958                  0.571  ...           NaN                     NaN   \n",
       "249249                0.000  ...           NaN                     NaN   \n",
       "56851                 0.000  ...          44.4                     NaN   \n",
       "90024                 0.000  ...           NaN                     NaN   \n",
       "95962                 0.286  ...          18.8                     NaN   \n",
       "132143                0.000  ...           NaN                     NaN   \n",
       "\n",
       "        hospital_beds_per_thousand  life_expectancy  human_development_index  \\\n",
       "135205                         NaN            77.66                      NaN   \n",
       "419677                       2.600            75.40                    0.704   \n",
       "305778                         NaN              NaN                      NaN   \n",
       "168980                         NaN            84.86                    0.949   \n",
       "2958                           NaN              NaN                      NaN   \n",
       "249249                      13.800            86.75                      NaN   \n",
       "56851                        7.454            75.05                    0.816   \n",
       "90024                          NaN            78.88                      NaN   \n",
       "95962                        2.500            80.90                    0.940   \n",
       "132143                         NaN            79.95                      NaN   \n",
       "\n",
       "        population  excess_mortality_cumulative_absolute  \\\n",
       "135205      306292                                   NaN   \n",
       "419677    98186856                                   NaN   \n",
       "305778          47                                   NaN   \n",
       "168980     7488863                                   NaN   \n",
       "2958    1426736614                                   NaN   \n",
       "249249       36491                                   NaN   \n",
       "56851      6781955                                   NaN   \n",
       "90024       191173                                   NaN   \n",
       "95962      5882259                                   NaN   \n",
       "132143      304568                                   NaN   \n",
       "\n",
       "        excess_mortality_cumulative  excess_mortality  \\\n",
       "135205                          NaN               NaN   \n",
       "419677                          NaN               NaN   \n",
       "305778                          NaN               NaN   \n",
       "168980                          NaN               NaN   \n",
       "2958                            NaN               NaN   \n",
       "249249                          NaN               NaN   \n",
       "56851                           NaN               NaN   \n",
       "90024                           NaN               NaN   \n",
       "95962                           NaN               NaN   \n",
       "132143                          NaN               NaN   \n",
       "\n",
       "        excess_mortality_cumulative_per_million  \n",
       "135205                                      NaN  \n",
       "419677                                      NaN  \n",
       "305778                                      NaN  \n",
       "168980                                      NaN  \n",
       "2958                                        NaN  \n",
       "249249                                      NaN  \n",
       "56851                                       NaN  \n",
       "90024                                       NaN  \n",
       "95962                                       NaN  \n",
       "132143                                      NaN  \n",
       "\n",
       "[10 rows x 67 columns]"
      ]
     },
     "execution_count": 4,
     "metadata": {},
     "output_type": "execute_result"
    }
   ],
   "source": [
    "covid_df = pd.read_csv(\"datasets/owid-covid-data.csv\")\n",
    "covid_df.sample(10)"
   ]
  },
  {
   "cell_type": "markdown",
   "id": "21adfa17-f786-4801-9e8c-9211d8e79772",
   "metadata": {},
   "source": [
    "# Svolgimento esericizio"
   ]
  },
  {
   "cell_type": "markdown",
   "id": "b1818117-b02a-4356-a23f-754ec5fb26b5",
   "metadata": {},
   "source": [
    "## 1. Si richiede di verificare le dimensioni del dataset e i relativi metadati"
   ]
  },
  {
   "cell_type": "code",
   "execution_count": 7,
   "id": "87433cf9-23d3-4b29-8c6e-8bc656266de1",
   "metadata": {},
   "outputs": [
    {
     "name": "stdout",
     "output_type": "stream",
     "text": [
      "Dimensioni dataset: (429435, 67)\n",
      "\n",
      "Metadati del dataset:\n",
      "iso_code\n",
      "continent\n",
      "location\n",
      "date\n",
      "total_cases\n",
      "new_cases\n",
      "new_cases_smoothed\n",
      "total_deaths\n",
      "new_deaths\n",
      "new_deaths_smoothed\n",
      "total_cases_per_million\n",
      "new_cases_per_million\n",
      "new_cases_smoothed_per_million\n",
      "total_deaths_per_million\n",
      "new_deaths_per_million\n",
      "new_deaths_smoothed_per_million\n",
      "reproduction_rate\n",
      "icu_patients\n",
      "icu_patients_per_million\n",
      "hosp_patients\n",
      "hosp_patients_per_million\n",
      "weekly_icu_admissions\n",
      "weekly_icu_admissions_per_million\n",
      "weekly_hosp_admissions\n",
      "weekly_hosp_admissions_per_million\n",
      "total_tests\n",
      "new_tests\n",
      "total_tests_per_thousand\n",
      "new_tests_per_thousand\n",
      "new_tests_smoothed\n",
      "new_tests_smoothed_per_thousand\n",
      "positive_rate\n",
      "tests_per_case\n",
      "tests_units\n",
      "total_vaccinations\n",
      "people_vaccinated\n",
      "people_fully_vaccinated\n",
      "total_boosters\n",
      "new_vaccinations\n",
      "new_vaccinations_smoothed\n",
      "total_vaccinations_per_hundred\n",
      "people_vaccinated_per_hundred\n",
      "people_fully_vaccinated_per_hundred\n",
      "total_boosters_per_hundred\n",
      "new_vaccinations_smoothed_per_million\n",
      "new_people_vaccinated_smoothed\n",
      "new_people_vaccinated_smoothed_per_hundred\n",
      "stringency_index\n",
      "population_density\n",
      "median_age\n",
      "aged_65_older\n",
      "aged_70_older\n",
      "gdp_per_capita\n",
      "extreme_poverty\n",
      "cardiovasc_death_rate\n",
      "diabetes_prevalence\n",
      "female_smokers\n",
      "male_smokers\n",
      "handwashing_facilities\n",
      "hospital_beds_per_thousand\n",
      "life_expectancy\n",
      "human_development_index\n",
      "population\n",
      "excess_mortality_cumulative_absolute\n",
      "excess_mortality_cumulative\n",
      "excess_mortality\n",
      "excess_mortality_cumulative_per_million\n"
     ]
    }
   ],
   "source": [
    "print(\"Dimensioni dataset:\", covid_df.shape)\n",
    "print(\"\\nMetadati del dataset:\")\n",
    "# vista la quantità di colonne, per rendere l'output più leggibile utilizzo un ciclo for\n",
    "for column in covid_df.columns:\n",
    "    print(column)\n"
   ]
  },
  {
   "cell_type": "code",
   "execution_count": 8,
   "id": "3bd36347-509e-46e2-aca8-bcb13b040dd3",
   "metadata": {},
   "outputs": [
    {
     "name": "stdout",
     "output_type": "stream",
     "text": [
      "<class 'pandas.core.frame.DataFrame'>\n",
      "RangeIndex: 429435 entries, 0 to 429434\n",
      "Data columns (total 67 columns):\n",
      " #   Column                                      Non-Null Count   Dtype  \n",
      "---  ------                                      --------------   -----  \n",
      " 0   iso_code                                    429435 non-null  object \n",
      " 1   continent                                   402910 non-null  object \n",
      " 2   location                                    429435 non-null  object \n",
      " 3   date                                        429435 non-null  object \n",
      " 4   total_cases                                 411804 non-null  float64\n",
      " 5   new_cases                                   410159 non-null  float64\n",
      " 6   new_cases_smoothed                          408929 non-null  float64\n",
      " 7   total_deaths                                411804 non-null  float64\n",
      " 8   new_deaths                                  410608 non-null  float64\n",
      " 9   new_deaths_smoothed                         409378 non-null  float64\n",
      " 10  total_cases_per_million                     411804 non-null  float64\n",
      " 11  new_cases_per_million                       410159 non-null  float64\n",
      " 12  new_cases_smoothed_per_million              408929 non-null  float64\n",
      " 13  total_deaths_per_million                    411804 non-null  float64\n",
      " 14  new_deaths_per_million                      410608 non-null  float64\n",
      " 15  new_deaths_smoothed_per_million             409378 non-null  float64\n",
      " 16  reproduction_rate                           184817 non-null  float64\n",
      " 17  icu_patients                                39116 non-null   float64\n",
      " 18  icu_patients_per_million                    39116 non-null   float64\n",
      " 19  hosp_patients                               40656 non-null   float64\n",
      " 20  hosp_patients_per_million                   40656 non-null   float64\n",
      " 21  weekly_icu_admissions                       10993 non-null   float64\n",
      " 22  weekly_icu_admissions_per_million           10993 non-null   float64\n",
      " 23  weekly_hosp_admissions                      24497 non-null   float64\n",
      " 24  weekly_hosp_admissions_per_million          24497 non-null   float64\n",
      " 25  total_tests                                 79387 non-null   float64\n",
      " 26  new_tests                                   75403 non-null   float64\n",
      " 27  total_tests_per_thousand                    79387 non-null   float64\n",
      " 28  new_tests_per_thousand                      75403 non-null   float64\n",
      " 29  new_tests_smoothed                          103965 non-null  float64\n",
      " 30  new_tests_smoothed_per_thousand             103965 non-null  float64\n",
      " 31  positive_rate                               95927 non-null   float64\n",
      " 32  tests_per_case                              94348 non-null   float64\n",
      " 33  tests_units                                 106788 non-null  object \n",
      " 34  total_vaccinations                          85417 non-null   float64\n",
      " 35  people_vaccinated                           81132 non-null   float64\n",
      " 36  people_fully_vaccinated                     78061 non-null   float64\n",
      " 37  total_boosters                              53600 non-null   float64\n",
      " 38  new_vaccinations                            70971 non-null   float64\n",
      " 39  new_vaccinations_smoothed                   195029 non-null  float64\n",
      " 40  total_vaccinations_per_hundred              85417 non-null   float64\n",
      " 41  people_vaccinated_per_hundred               81132 non-null   float64\n",
      " 42  people_fully_vaccinated_per_hundred         78061 non-null   float64\n",
      " 43  total_boosters_per_hundred                  53600 non-null   float64\n",
      " 44  new_vaccinations_smoothed_per_million       195029 non-null  float64\n",
      " 45  new_people_vaccinated_smoothed              192177 non-null  float64\n",
      " 46  new_people_vaccinated_smoothed_per_hundred  192177 non-null  float64\n",
      " 47  stringency_index                            196190 non-null  float64\n",
      " 48  population_density                          360492 non-null  float64\n",
      " 49  median_age                                  334663 non-null  float64\n",
      " 50  aged_65_older                               323270 non-null  float64\n",
      " 51  aged_70_older                               331315 non-null  float64\n",
      " 52  gdp_per_capita                              328292 non-null  float64\n",
      " 53  extreme_poverty                             211996 non-null  float64\n",
      " 54  cardiovasc_death_rate                       328865 non-null  float64\n",
      " 55  diabetes_prevalence                         345911 non-null  float64\n",
      " 56  female_smokers                              247165 non-null  float64\n",
      " 57  male_smokers                                243817 non-null  float64\n",
      " 58  handwashing_facilities                      161741 non-null  float64\n",
      " 59  hospital_beds_per_thousand                  290689 non-null  float64\n",
      " 60  life_expectancy                             390299 non-null  float64\n",
      " 61  human_development_index                     319127 non-null  float64\n",
      " 62  population                                  429435 non-null  int64  \n",
      " 63  excess_mortality_cumulative_absolute        13411 non-null   float64\n",
      " 64  excess_mortality_cumulative                 13411 non-null   float64\n",
      " 65  excess_mortality                            13411 non-null   float64\n",
      " 66  excess_mortality_cumulative_per_million     13411 non-null   float64\n",
      "dtypes: float64(61), int64(1), object(5)\n",
      "memory usage: 219.5+ MB\n"
     ]
    }
   ],
   "source": [
    "# per capire con che tipologie di dati ho a che fare:\n",
    "covid_df.info()"
   ]
  },
  {
   "cell_type": "markdown",
   "id": "984ec5f8-6fb0-47c3-8109-bd74d6f62c8e",
   "metadata": {},
   "source": [
    "## 2. Si chiede di trovare, per ogni continente:\n",
    "   - il numero di casi fin dall'inizio della pandemia\n",
    "   - la percentuale rispetto al totale mondiale del numero di casi"
   ]
  },
  {
   "cell_type": "code",
   "execution_count": 10,
   "id": "ce935bab-2782-420f-afd4-9bc1d81c091c",
   "metadata": {},
   "outputs": [
    {
     "data": {
      "text/plain": [
       "array(['Asia', nan, 'Europe', 'Africa', 'Oceania', 'North America',\n",
       "       'South America'], dtype=object)"
      ]
     },
     "execution_count": 10,
     "metadata": {},
     "output_type": "execute_result"
    }
   ],
   "source": [
    "# controllo cosa c'è nella categoria continent per capire come strutturare eventuali raggruppamenti e\n",
    "# come gestire eventuali valori nulli.\n",
    "covid_df.continent.unique() "
   ]
  },
  {
   "cell_type": "code",
   "execution_count": 11,
   "id": "07b49bb4-8ab7-43e2-bd63-bfa4d293fa15",
   "metadata": {},
   "outputs": [
    {
     "data": {
      "text/plain": [
       "26525"
      ]
     },
     "execution_count": 11,
     "metadata": {},
     "output_type": "execute_result"
    }
   ],
   "source": [
    "# Ci sono dei valori nulli\n",
    "covid_df.continent.isna().sum() "
   ]
  },
  {
   "cell_type": "code",
   "execution_count": 12,
   "id": "ca7d6c2b-8401-4424-a57a-b7ad0996d27e",
   "metadata": {},
   "outputs": [
    {
     "data": {
      "text/plain": [
       "array(['Africa', 'Asia', 'Europe', 'European Union (27)',\n",
       "       'High-income countries', 'Low-income countries',\n",
       "       'Lower-middle-income countries', 'North America', 'Oceania',\n",
       "       'South America', 'Upper-middle-income countries', 'World'],\n",
       "      dtype=object)"
      ]
     },
     "execution_count": 12,
     "metadata": {},
     "output_type": "execute_result"
    }
   ],
   "source": [
    "# controllo quali sono i valori che si trovano nella colonna \"location\" quando \"continent\" è nullo \n",
    "location_check = covid_df[covid_df.continent.isna()].location.unique() \n",
    "location_check"
   ]
  },
  {
   "cell_type": "code",
   "execution_count": 13,
   "id": "715a1979-c9a0-4ce3-ab21-f238c96dd6bc",
   "metadata": {},
   "outputs": [
    {
     "data": {
      "text/plain": [
       "location\n",
       "Africa                            13146831\n",
       "Asia                             301564180\n",
       "Europe                           252916868\n",
       "European Union (27)              185822587\n",
       "High-income countries            429044052\n",
       "Low-income countries               1944687\n",
       "Lower-middle-income countries     92019711\n",
       "North America                    124492698\n",
       "Oceania                           15003468\n",
       "South America                     68811012\n",
       "Upper-middle-income countries    251756125\n",
       "World                            775935057\n",
       "Name: new_cases, dtype: int32"
      ]
     },
     "execution_count": 13,
     "metadata": {},
     "output_type": "execute_result"
    }
   ],
   "source": [
    "# osservo il raggruppando per location e lo confronto con quanto uscito raggruppando per continente.\n",
    "# Noto che ottengo gli stessi valori per le voci comuni (\"Asia\", \"Africa\" ecc).\n",
    "#Inoltre la voce \"world\" presente in location corrisponde effettivamente al totale di casi calcolati raggruppando per continente.\n",
    "# Le altre categorie come \"European Union (27)\", \"High-income countries\" ecc mi fanno capire che il dataset includa\n",
    "# anche dati socioeconomici che non prenderò in considerazione nella successiva analisi poichè andrei ad includere due volte gli stessi dati.\n",
    "covid_df.groupby(\"location\").new_cases.sum().loc[location_check].astype(int)"
   ]
  },
  {
   "cell_type": "code",
   "execution_count": 14,
   "id": "46516f69-8835-41d6-ab20-b4aa1af80bae",
   "metadata": {},
   "outputs": [
    {
     "data": {
      "text/plain": [
       "775935057"
      ]
     },
     "execution_count": 14,
     "metadata": {},
     "output_type": "execute_result"
    }
   ],
   "source": [
    "covid_df.groupby( \"continent\" ).new_cases.sum().sum().astype(int)"
   ]
  },
  {
   "cell_type": "code",
   "execution_count": 15,
   "id": "4311ccd8-b42f-4729-82d7-9ce8b67dff36",
   "metadata": {},
   "outputs": [
    {
     "name": "stdout",
     "output_type": "stream",
     "text": [
      "Numero di casi per ogni continente da inizio pandemia:  \n",
      "Africa            13146831\n",
      "Asia             301564180\n",
      "Europe           252916868\n",
      "North America    124492698\n",
      "Oceania           15003468\n",
      "South America     68811012\n",
      "Name: new_cases, dtype: int32\n"
     ]
    }
   ],
   "source": [
    "cases_per_continent = covid_df.groupby(\"continent\").new_cases.sum()\n",
    "cases_per_continent.index.name = ' '\n",
    "print(\"Numero di casi per ogni continente da inizio pandemia:\", cases_per_continent.astype(int))"
   ]
  },
  {
   "cell_type": "code",
   "execution_count": 16,
   "id": "ad882f21-0b00-4e75-a1d5-235fe38709a3",
   "metadata": {},
   "outputs": [
    {
     "name": "stdout",
     "output_type": "stream",
     "text": [
      "Percentuale per continente:  \n",
      "Africa            1.69 %\n",
      "Asia             38.86 %\n",
      "Europe            32.6 %\n",
      "North America    16.04 %\n",
      "Oceania           1.93 %\n",
      "South America     8.87 %\n",
      "Name: new_cases, dtype: object\n"
     ]
    }
   ],
   "source": [
    "tot_cases_per_continent = covid_df.groupby( \"continent\" ).new_cases.sum().sum() \n",
    "percentuale_per_continent = ( cases_per_continent / tot_cases_per_continent * 100 ).round(2)\n",
    "percentuale_per_continent.index.name = ' '\n",
    "print(\"Percentuale per continente:\", percentuale_per_continent.astype(str) + ' %')"
   ]
  },
  {
   "cell_type": "code",
   "execution_count": 17,
   "id": "472f56ed-a2a3-4e48-b03a-08d01eca6377",
   "metadata": {},
   "outputs": [
    {
     "data": {
      "image/png": "[encoded data removed]",
      "text/plain": [
       "<Figure size 640x480 with 1 Axes>"
      ]
     },
     "metadata": {},
     "output_type": "display_data"
    }
   ],
   "source": [
    "# visualizzazione delle percentuali per continente\n",
    "etichette = \"Africa\", \"Asia\", \"Europe\",\"North America\",\"Oceania\",\"South America\"\n",
    "sizes = percentuale_per_continent\n",
    "fig1, ax1 = plt.subplots()\n",
    "ax1.pie(sizes, labels = etichette, autopct='%1.2f%%')\n",
    "ax1.axis('equal')  \n",
    "plt.title('Percentuale per continente\\n', fontsize=12, fontweight='bold')\n",
    "plt.show()"
   ]
  },
  {
   "cell_type": "markdown",
   "id": "ef842e95-0050-4349-acaf-3a49b8c758a6",
   "metadata": {},
   "source": [
    "## 3. Selezionare i dati relativi all'Italia nel 2022 e mostrare con dei grafici adeguati:\n",
    "   - l'evoluzione del casi totali dall'inizio alla fine dell'anno\n",
    "   - il numero di nuovi casi rispetto alla data;  \n",
    "      poiché i nuovi casi vengono registrati settimanalmente, filtrare via i dati che non hanno misurazioni"
   ]
  },
  {
   "cell_type": "code",
   "execution_count": 19,
   "id": "69d7e564-c9ab-4e97-a359-5d938111aec1",
   "metadata": {},
   "outputs": [
    {
     "data": {
      "text/plain": [
       "0"
      ]
     },
     "execution_count": 19,
     "metadata": {},
     "output_type": "execute_result"
    }
   ],
   "source": [
    "# controllo la presenza di eventuali valori nulli da gestire\n",
    "covid_df.date.isna().sum()"
   ]
  },
  {
   "cell_type": "code",
   "execution_count": 20,
   "id": "9b0529ea-1a03-4539-9d40-854fe272537d",
   "metadata": {},
   "outputs": [],
   "source": [
    "# non essendoci valori nulli procedo con la conversione della colonna \"date\" nel formato corretto\n",
    "covid_df.date = pd.to_datetime(covid_df.date)"
   ]
  },
  {
   "cell_type": "code",
   "execution_count": 21,
   "id": "6d9564c3-9902-4a33-987d-8e7d2e511000",
   "metadata": {},
   "outputs": [],
   "source": [
    "# creazione filtri\n",
    "filter_2022 = covid_df.date.dt.year == 2022\n",
    "filter_ita = covid_df.location == \"Italy\""
   ]
  },
  {
   "cell_type": "code",
   "execution_count": 22,
   "id": "3db6d297-ed12-40b4-b784-b49af234d4fa",
   "metadata": {},
   "outputs": [
    {
     "data": {
      "text/plain": [
       "Text(0.5, 1.0, 'Andamento totale dei casi di COVID in Italia nel 2022\\n')"
      ]
     },
     "execution_count": 22,
     "metadata": {},
     "output_type": "execute_result"
    },
    {
     "data": {
      "image/png": "[encoded data removed]",
      "text/plain": [
       "<Figure size 640x480 with 1 Axes>"
      ]
     },
     "metadata": {},
     "output_type": "display_data"
    }
   ],
   "source": [
    "covid_df[filter_2022 & filter_ita].plot(x = \"date\", y = \"total_cases\")\n",
    "plt.title(\"Andamento totale dei casi di COVID in Italia nel 2022\\n\", fontsize=12, fontweight='bold')"
   ]
  },
  {
   "cell_type": "code",
   "execution_count": 23,
   "id": "09245d43-4737-4be9-b74e-0b48a50a4193",
   "metadata": {},
   "outputs": [
    {
     "data": {
      "text/plain": [
       "Text(0.5, 1.0, 'Nuovi casi rispetto alla data \\n')"
      ]
     },
     "execution_count": 23,
     "metadata": {},
     "output_type": "execute_result"
    },
    {
     "data": {
      "image/png": "[encoded data removed]",
      "text/plain": [
       "<Figure size 640x480 with 1 Axes>"
      ]
     },
     "metadata": {},
     "output_type": "display_data"
    }
   ],
   "source": [
    "# new_cases diverso da zero, raramente in questa colonna ci sono casi negativi (fonte: redme presente su github)\n",
    "covid_df[filter_2022 & filter_ita & covid_df.new_cases != 0].plot(x = \"date\", y = \"new_cases\", color = \"darkgreen\")                                                              \n",
    "plt.title(\"Nuovi casi rispetto alla data \\n\", fontsize=14, fontweight='bold')"
   ]
  },
  {
   "cell_type": "markdown",
   "id": "f8dc213e-50b5-4d00-848e-5d20f26a381b",
   "metadata": {},
   "source": [
    "## 4. Riguardo le nazioni di Italia, Germania e Francia mostrare in un boxplot la differenza tra queste nazioni riguardo il numero di pazienti in terapia intensiva (Intensive Care Unit, ICU) da maggio 2022 (incluso) ad aprile 2023 (incluso)\n",
    "    - scrivere un breve commento a riguardo"
   ]
  },
  {
   "cell_type": "code",
   "execution_count": 25,
   "id": "4a5eb675-c97a-4a43-9a74-9768f227f662",
   "metadata": {},
   "outputs": [],
   "source": [
    "filter_data = covid_df.date.between(\"2022-05-01\", \"2023-04-30\", inclusive = \"both\")\n",
    "filter_IGF = covid_df.location.str.contains(\"Italy|Germany|France\")\n"
   ]
  },
  {
   "cell_type": "code",
   "execution_count": 26,
   "id": "8bcc8c25-bfb1-456c-b17d-030c38af9be9",
   "metadata": {},
   "outputs": [
    {
     "data": {
      "text/plain": [
       "Text(0, 0.5, '')"
      ]
     },
     "execution_count": 26,
     "metadata": {},
     "output_type": "execute_result"
    },
    {
     "data": {
      "image/png": "[encoded data removed]",
      "text/plain": [
       "<Figure size 640x480 with 1 Axes>"
      ]
     },
     "metadata": {},
     "output_type": "display_data"
    }
   ],
   "source": [
    "sns.boxplot(data = covid_df[filter_data & filter_IGF], x = \"location\", y = \"icu_patients\",\n",
    "            palette = \"pastel\", hue = \"location\")\n",
    "plt.title(\"Distribuzione dei pazienti in ICU\", fontsize=14, fontweight='bold')\n",
    "plt.xlabel(\"\")\n",
    "plt.ylabel(\"\")"
   ]
  },
  {
   "cell_type": "code",
   "execution_count": 27,
   "id": "9c74a9b1-d193-4904-b8d8-1c99244b165b",
   "metadata": {},
   "outputs": [],
   "source": [
    "# l'Italia ha una distribuzione più centrata rispetto a quelle di Germania e Francia che presentano invece una distribuzione simile.\n",
    "#Queste ultime hanno una mediana simile, ma la Germania ha una distribuzione più ampia e con maggiore variabilità. \n",
    "# L'Italia ha il numero più basso di pazienti in ICU e questo potrebbe dipendere da vari fattori come l'attuazione di misure più restrittive\n",
    "# e efficati a contenere i casi covid o magari ad una disponibilità ridotta di posti in ICU."
   ]
  },
  {
   "cell_type": "markdown",
   "id": "c732bef0-c5b6-41f5-b9e8-c6de97006830",
   "metadata": {},
   "source": [
    "## 5. Riguardo le nazioni di Italia, Germania, Francia e Spagna in tutto il 2023:\n",
    "   - mostrare la somma dei pazienti ospitalizzati per ognuna\n",
    "   - se ci sono dati nulli, con un breve commento scrivere se può essere possibile gestirli tramite sostituzione o meno"
   ]
  },
  {
   "cell_type": "code",
   "execution_count": 29,
   "id": "5d57d36b-6eac-49b8-993b-99ffbbaa45b0",
   "metadata": {},
   "outputs": [],
   "source": [
    "filter_IGFS = covid_df.location.str.contains(\"Italy|Germany|France|Spain\")\n",
    "filter_2023 = covid_df.date.dt.year == 2023"
   ]
  },
  {
   "cell_type": "code",
   "execution_count": 30,
   "id": "898386d6-6e2b-4305-baa7-e296e8b98379",
   "metadata": {},
   "outputs": [
    {
     "data": {
      "text/plain": [
       "location\n",
       "France     1382574\n",
       "Germany          0\n",
       "Italy      1175272\n",
       "Spain       354602\n",
       "Name: hosp_patients, dtype: int32"
      ]
     },
     "execution_count": 30,
     "metadata": {},
     "output_type": "execute_result"
    }
   ],
   "source": [
    "hosp_IGFS_daily = covid_df[filter_2023 & filter_IGFS].groupby(\"location\")[\"hosp_patients\"].sum()\n",
    "hosp_IGFS_daily.astype(int)"
   ]
  },
  {
   "cell_type": "code",
   "execution_count": 80,
   "id": "2fe6d71f-d616-4c22-9777-73ebb3635218",
   "metadata": {},
   "outputs": [
    {
     "data": {
      "text/plain": [
       "Text(0, 0.5, ' ')"
      ]
     },
     "execution_count": 80,
     "metadata": {},
     "output_type": "execute_result"
    },
    {
     "data": {
      "image/png": "[encoded data removed]",
      "text/plain": [
       "<Figure size 640x480 with 1 Axes>"
      ]
     },
     "metadata": {},
     "output_type": "display_data"
    }
   ],
   "source": [
    "sns.barplot(data = covid_df[filter_2023 & filter_IGFS], x = \"hosp_patients\", y = \"location\",estimator = \"sum\", hue = \"location\", errorbar = None)\n",
    "plt.title(\"Pazienti ospedalizzati ogni giorno\", fontsize=12, fontweight='bold')\n",
    "plt.xlabel(\"\")\n",
    "plt.ylabel(\" \")"
   ]
  },
  {
   "cell_type": "code",
   "execution_count": null,
   "id": "3c363acc-f4b2-40e1-8233-e331a29dc286",
   "metadata": {},
   "outputs": [],
   "source": [
    "# Nella descrizione del metadato \"hosp_patients\" presente nella documentazione su GitHub, si legge: \n",
    "# \"Number of COVID-19 patients in hospital on a given day\". Tuttavia, per la Germania, i valori risultano pari a zero.\n",
    "# Interrogando il database per \"weekly_hosp_admission\", emergono invece dati relativi alla Germania. \n",
    "# Questo accade probabilmente perché il paese comunicava i ricoveri su base settimanale.\n",
    "# Ripartire equamente i dati settimanali sui singoli giorni non sarebbe una scelta appropriata, poiché implicherebbe \n",
    "# un flusso costante di ricoveri, un'ipotesi poco realistica. Pertanto, ritengo più corretto lasciare i valori nulli per hosp_patients."
   ]
  },
  {
   "cell_type": "code",
   "execution_count": 66,
   "id": "43988b25-4d6e-41b1-b012-51124f11c00d",
   "metadata": {},
   "outputs": [
    {
     "data": {
      "text/plain": [
       "location\n",
       "France     268117\n",
       "Germany    897776\n",
       "Italy      592019\n",
       "Spain      299463\n",
       "Name: weekly_hosp_admissions, dtype: int32"
      ]
     },
     "execution_count": 66,
     "metadata": {},
     "output_type": "execute_result"
    }
   ],
   "source": [
    "hosp_IGFS_weekly = covid_df[filter_2023 & filter_IGFS].groupby(\"location\")[\"weekly_hosp_admissions\"].sum()\n",
    "hosp_IGFS_weekly.astype(int)"
   ]
  },
  {
   "cell_type": "code",
   "execution_count": 78,
   "id": "c0c40054-b183-4605-af25-6c0391dfa6dc",
   "metadata": {},
   "outputs": [
    {
     "data": {
      "text/plain": [
       "Text(0, 0.5, '')"
      ]
     },
     "execution_count": 78,
     "metadata": {},
     "output_type": "execute_result"
    },
    {
     "data": {
      "image/png": "[encoded data removed]",
      "text/plain": [
       "<Figure size 640x480 with 1 Axes>"
      ]
     },
     "metadata": {},
     "output_type": "display_data"
    }
   ],
   "source": [
    "sns.barplot(data = covid_df[filter_2023 & filter_IGFS], x = \"weekly_hosp_admissions\", y = \"location\",estimator = \"sum\", hue = \"location\", errorbar = None) \n",
    "plt.title(\"Pazienti ospedalizzati ogni settimana\", fontsize=12, fontweight='bold')\n",
    "plt.xlabel(\"\")\n",
    "plt.ylabel(\"\")"
   ]
  },
  {
   "cell_type": "code",
   "execution_count": null,
   "id": "27f7a015-da42-4984-b0a1-08d5eb382d09",
   "metadata": {},
   "outputs": [],
   "source": []
  }
 ],
 "metadata": {
  "kernelspec": {
   "display_name": "Python [conda env:base] *",
   "language": "python",
   "name": "conda-base-py"
  },
  "language_info": {
   "codemirror_mode": {
    "name": "ipython",
    "version": 3
   },
   "file_extension": ".py",
   "mimetype": "text/x-python",
   "name": "python",
   "nbconvert_exporter": "python",
   "pygments_lexer": "ipython3",
   "version": "3.12.7"
  }
 },
 "nbformat": 4,
 "nbformat_minor": 5
}
